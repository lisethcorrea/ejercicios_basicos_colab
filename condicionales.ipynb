{
  "nbformat": 4,
  "nbformat_minor": 0,
  "metadata": {
    "colab": {
      "provenance": [],
      "authorship_tag": "ABX9TyMPpxAalOF2bI2Z4pHhQayl",
      "include_colab_link": true
    },
    "kernelspec": {
      "name": "python3",
      "display_name": "Python 3"
    },
    "language_info": {
      "name": "python"
    }
  },
  "cells": [
    {
      "cell_type": "markdown",
      "metadata": {
        "id": "view-in-github",
        "colab_type": "text"
      },
      "source": [
        "<a href=\"https://colab.research.google.com/github/lisethcorrea/ejercicios_basicos_colab/blob/main/condicionales.ipynb\" target=\"_parent\"><img src=\"https://colab.research.google.com/assets/colab-badge.svg\" alt=\"Open In Colab\"/></a>"
      ]
    },
    {
      "cell_type": "code",
      "execution_count": null,
      "metadata": {
        "id": "e8YFDUNkpZkA"
      },
      "outputs": [],
      "source": []
    },
    {
      "cell_type": "markdown",
      "source": [
        "#instruciones condicionales"
      ],
      "metadata": {
        "id": "0_uBgHEpp19-"
      }
    },
    {
      "cell_type": "code",
      "source": [
        "\"\"\"Ejercicio 1:\n",
        "Programa que lea las coordenadas cartesianas (x, y) de un punto en el plano y\n",
        "calcule el cuadrante al cual pertenece el punto.\"\"\"\n",
        "\n",
        "print(\"---------------------------------------\")\n",
        "print(\"-------UBICACION DE CORDENANDAS -------\")\n",
        "print(\"---------------------------------------\")\n",
        "\n",
        "# input\n",
        "X= input(\"Digite el valor de X:\")\n",
        "X= int(X)\n",
        "Y= input(\"Digite el valor de Y:\")\n",
        "Y= int(Y)\n",
        "\n",
        "\n",
        "# processing\n",
        "if X ==0:\n",
        "    if Y ==0:\n",
        "        print(\"La cordenada es el punto de origen\")\n",
        "    else:\n",
        "        print(\"La cordenada esta sobre el eje Y\")\n",
        "\n",
        "\n",
        "else:\n",
        "    if Y==0:\n",
        "        print(\"La cordenada esta sobre el eje X\")\n",
        "\n",
        "    else:\n",
        "        if X>0:\n",
        "            if Y>0:\n",
        "                print(\"La cordenada esta en el primer cuadrante\")\n",
        "\n",
        "            else:\n",
        "                print(\"La cordenada esta en el cuarto cuadrante\")\n",
        "        else:\n",
        "            if Y<0:\n",
        "                print(\"La cordenada es del tercer cuadrante\")  \n",
        "\n",
        "            else:\n",
        "                print(\"La cordenada es del segundo cuadrante\")  "
      ],
      "metadata": {
        "colab": {
          "base_uri": "https://localhost:8080/"
        },
        "id": "C4TPMoJ2uKWu",
        "outputId": "b407b072-ff2c-46b4-b50a-7521d3820a5e"
      },
      "execution_count": null,
      "outputs": [
        {
          "output_type": "stream",
          "name": "stdout",
          "text": [
            "---------------------------------------\n",
            "-------UBICACION DE CORDENANDAS -------\n",
            "---------------------------------------\n"
          ]
        }
      ]
    },
    {
      "cell_type": "code",
      "source": [
        "\"\"\"Ejercicio 2:\n",
        "Programa que permita realizar un préstamo bancario, teniendo en cuenta que\n",
        "el préstamo será otorgado solamente a personas con ingresos superiores\n",
        "a $945200 y que no posea ninguna otra deuda.\"\"\"\n",
        "\n",
        "print(\"-----------------------------------------------\")\n",
        "print(\"---------PRESTAMO  APROBADO & DENEGADO --------\")\n",
        "print(\"-----------------------------------------------\")\n",
        "\n",
        "# input\n",
        "I= input(\"Digite el valor de sus ingresos:\")\n",
        "I= int(I)\n",
        "\n",
        "# processing\n",
        "\n",
        "if I>945200:\n",
        "    D= input(\"Tiene otras deudas Y(1)/N(0): \")\n",
        "    D=int(D)\n",
        "\n",
        "    if D==2:\n",
        "        print(\"El prestamo ha sido aprobado\")\n",
        "\n",
        "    else:\n",
        "        print(\"El prestamo ha sido negado\")    \n",
        "\n",
        "\n",
        "else:\n",
        "    print(\"El prestamo ha sido negado\")"
      ],
      "metadata": {
        "id": "xB3wmsv9uooz"
      },
      "execution_count": null,
      "outputs": []
    },
    {
      "cell_type": "code",
      "source": [
        "\"\"\"Ejercicio 3:\n",
        "Programa que le indique el precio de venta\n",
        "de un articulo dado.\"\"\"\n",
        "\n",
        "print(\"-------------------------------------------------------\")\n",
        "print(\"---------PRECIO VENTA Y GANACIA DE UN PRODUCTO --------\")\n",
        "print(\"-------------------------------------------------------\")\n",
        "\n",
        "# input\n",
        "C=float(input(\"Digite el precio costo del producto: \"))\n",
        "\n",
        "\n",
        "# processing\n",
        "\n",
        "if C<3000:\n",
        "    G=0.15*C\n",
        "\n",
        "else:\n",
        "    if C<=6000:\n",
        "        G=500\n",
        "\n",
        "    else:\n",
        "        G=0,25*C\n",
        "\n",
        "\n",
        "P=C+G\n",
        "\n",
        "# output\n",
        "\n",
        "print(\"\\nResultado\\n\")\n",
        "\n",
        "print( \" El precio venta es : \" + str (P) )\n",
        "print( \" El precio de costo es : \" + str (C) )\n",
        "print( \" La ganacia es : \" + str (G) )"
      ],
      "metadata": {
        "id": "JR1CP2J-vEqZ"
      },
      "execution_count": null,
      "outputs": []
    }
  ]
}