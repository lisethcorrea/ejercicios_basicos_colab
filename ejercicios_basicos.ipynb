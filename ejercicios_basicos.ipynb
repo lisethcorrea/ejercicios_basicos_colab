{
  "nbformat": 4,
  "nbformat_minor": 0,
  "metadata": {
    "colab": {
      "provenance": [],
      "authorship_tag": "ABX9TyPtA9DlzbxZbwpTlVxPADh4",
      "include_colab_link": true
    },
    "kernelspec": {
      "name": "python3",
      "display_name": "Python 3"
    },
    "language_info": {
      "name": "python"
    }
  },
  "cells": [
    {
      "cell_type": "markdown",
      "metadata": {
        "id": "view-in-github",
        "colab_type": "text"
      },
      "source": [
        "<a href=\"https://colab.research.google.com/github/lisethcorrea/ejercicios_basicos_colab/blob/main/ejercicios_basicos.ipynb\" target=\"_parent\"><img src=\"https://colab.research.google.com/assets/colab-badge.svg\" alt=\"Open In Colab\"/></a>"
      ]
    },
    {
      "cell_type": "code",
      "execution_count": 1,
      "metadata": {
        "colab": {
          "base_uri": "https://localhost:8080/"
        },
        "id": "cgU-l_EsU_WO",
        "outputId": "0157bfba-0235-46aa-e35e-8b4b2de5af8e"
      },
      "outputs": [
        {
          "output_type": "stream",
          "name": "stdout",
          "text": [
            "hola mundo\n"
          ]
        }
      ],
      "source": [
        "print(\"hola mundo\")"
      ]
    },
    {
      "cell_type": "markdown",
      "source": [
        "# ejercicios basicos python \n",
        "1. suma de dos numeros\n",
        "2. potencia de un numero"
      ],
      "metadata": {
        "id": "lvjlBFvijJz6"
      }
    },
    {
      "cell_type": "markdown",
      "source": [],
      "metadata": {
        "id": "lo8Wy9pylUzZ"
      }
    },
    {
      "cell_type": "code",
      "source": [
        "# suma de dos numeros enteros\n",
        "\n",
        "print(\"-----------------------------\")\n",
        "print(\"----suma de dos enteros------\")\n",
        "print(\"-----------------------------\")\n",
        "\n",
        "# input\n",
        "x = int(input(\"digite el valor de x: \"))\n",
        "y = int(input(\"digite el valor de y: \"))\n",
        "\n",
        "#processing\n",
        "z = x + y\n",
        "\n",
        "# output\n",
        "print(\"la sumade \",X,\"  + \",y,\" es \", z)\n",
        "\n"
      ],
      "metadata": {
        "id": "hNxnGTHgkm7n"
      },
      "execution_count": null,
      "outputs": []
    },
    {
      "cell_type": "code",
      "source": [
        "#potencia de un numero\n",
        "print(\"-------------------------\")\n",
        "print(---------POTENCI-----------)\n",
        "print(---------------------------)\n",
        "\n",
        "input\n",
        "x =int(input(\"digite el valor de x: \"))\n",
        "y =int(input(\"digite el valor de y: \"))\n",
        "\n",
        "#processing\n",
        "z = x**y\n",
        "\n",
        "#output\n",
        "print(x, \" elevado a la \",y, \"es\",z)"
      ],
      "metadata": {
        "id": "UXFZTD19mMx4"
      },
      "execution_count": null,
      "outputs": []
    }
  ]
}